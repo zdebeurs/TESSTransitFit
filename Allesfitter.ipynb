{
 "cells": [
  {
   "cell_type": "code",
   "execution_count": 7,
   "id": "d222442e",
   "metadata": {},
   "outputs": [],
   "source": [
    "import allesfitter"
   ]
  },
  {
   "cell_type": "code",
   "execution_count": null,
   "id": "d7f2ed66",
   "metadata": {},
   "outputs": [],
   "source": [
    "allesfitter.GUI()"
   ]
  },
  {
   "cell_type": "code",
   "execution_count": null,
   "id": "a6d86f01",
   "metadata": {},
   "outputs": [],
   "source": []
  }
 ],
 "metadata": {
  "kernelspec": {
   "display_name": "Python 3",
   "language": "python",
   "name": "python3"
  },
  "language_info": {
   "codemirror_mode": {
    "name": "ipython",
    "version": 3
   },
   "file_extension": ".py",
   "mimetype": "text/x-python",
   "name": "python",
   "nbconvert_exporter": "python",
   "pygments_lexer": "ipython3",
   "version": "3.8.8"
  }
 },
 "nbformat": 4,
 "nbformat_minor": 5
}
